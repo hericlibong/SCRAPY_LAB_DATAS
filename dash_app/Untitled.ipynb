{
 "cells": [
  {
   "cell_type": "code",
   "execution_count": 1,
   "id": "4f366d22",
   "metadata": {},
   "outputs": [],
   "source": [
    "import pandas as pd\n",
    "import bamboolib as bam"
   ]
  },
  {
   "cell_type": "code",
   "execution_count": 2,
   "id": "7110152c",
   "metadata": {},
   "outputs": [],
   "source": [
    "df = pd.read_csv('/Users/mac/my_workshops/scrapy/fifalive/livefifaranking/livefifaranking/spiders/databis.csv')"
   ]
  },
  {
   "cell_type": "code",
   "execution_count": 3,
   "id": "47cf233a",
   "metadata": {},
   "outputs": [
    {
     "data": {
      "application/vnd.jupyter.widget-view+json": {
       "model_id": "ac927f738e444e96b631c926bf8e4f3e"
      },
      "text/plain": [
       "      rank moving              country actual points moving points  \\\n",
       "0      1.0    NaN               Brazil      1,840.77       (-0.53)   \n",
       "1      2.0   (↑1)            Argentina      1,786.92      (+13.04)   \n",
       "2      3.0   (↓1)              Belgium      1,781.30      (-35.41)   \n",
       "3      4.0   (↑1)              England      1,774.07      (+45.60)   \n",
       "4      5.0   (↓1)               France      1,770.50      (+10.72)   \n",
       "..     ...    ...                  ...           ...           ...   \n",
       "218   96.0    NaN              Vietnam     1,226.65            NaN   \n",
       "219   97.0    NaN              Belarus      1,221.67       (+0.61)   \n",
       "220   98.0    NaN    Equatorial Guinea     1,215.66            NaN   \n",
       "221   99.0    NaN                Congo     1,208.79            NaN   \n",
       "222  100.0   (↓1)              Lebanon      1,208.47       (-3.24)   \n",
       "\n",
       "    former points  former rank  \n",
       "0           1,841          1.0  \n",
       "1           1,774          3.0  \n",
       "2           1,817          2.0  \n",
       "3           1,728          5.0  \n",
       "4           1,760          4.0  \n",
       "..            ...          ...  \n",
       "218         1,227         96.0  \n",
       "219         1,221         97.0  \n",
       "220         1,216         98.0  \n",
       "221         1,209        100.0  \n",
       "222         1,212         99.0  \n",
       "\n",
       "[223 rows x 7 columns]"
      ]
     },
     "metadata": {},
     "output_type": "display_data"
    }
   ],
   "source": [
    "import pandas as pd; import numpy as np\n",
    "df = df.loc[~(df['country'].isna())]\n",
    "df['rank'] = pd.to_numeric(df['rank'], downcast='integer', errors='coerce')\n",
    "df = df[['rank'] + ['country'] + ['moving', 'actual points', 'moving points', 'former points', 'former rank']]\n",
    "df = df.fillna('0')\n",
    "df['former rank'] = pd.to_numeric(df['former rank'], downcast='integer', errors='coerce')\n",
    "df = df.sort_values(by=['rank'], ascending=[True])\n",
    "df"
   ]
  },
  {
   "cell_type": "code",
   "execution_count": 4,
   "id": "bebbfd9f",
   "metadata": {},
   "outputs": [],
   "source": [
    "from collections import OrderedDict\n",
    "\n",
    "\n",
    "\n",
    "data = OrderedDict(\n",
    "    [\n",
    "        (\"Date\", [\"2015-01-01\", \"2015-10-24\", \"2016-05-10\", \"2017-01-10\", \"2018-05-10\", \"2018-08-15\"]),\n",
    "        (\"Region\", [\"Montreal\", \"Toronto\", \"New York City\", \"Miami\", \"San Francisco\", \"London\"]),\n",
    "        (\"Temperature\", [1, -20, 3.512, 4, 10423, -441.2]),\n",
    "        (\"Humidity\", [10, 20, 30, 40, 50, 60]),\n",
    "        (\"Pressure\", [2, 10924, 3912, -10, 3591.2, 15]),\n",
    "    ]\n",
    ")\n",
    "\n",
    "dataf = pd.DataFrame(\n",
    "    OrderedDict([(name, col_data * 10) for (name, col_data) in data.items()])\n",
    ")\n",
    "  "
   ]
  },
  {
   "cell_type": "code",
   "execution_count": 5,
   "id": "e04bf7d7",
   "metadata": {},
   "outputs": [
    {
     "data": {
      "application/vnd.jupyter.widget-view+json": {
       "model_id": "9165e7c6671444b5aa3118542e26984c"
      },
      "text/plain": [
       "          Date         Region  Temperature  Humidity  Pressure\n",
       "0   2015-01-01       Montreal        1.000        10       2.0\n",
       "1   2015-10-24        Toronto      -20.000        20   10924.0\n",
       "2   2016-05-10  New York City        3.512        30    3912.0\n",
       "3   2017-01-10          Miami        4.000        40     -10.0\n",
       "4   2018-05-10  San Francisco    10423.000        50    3591.2\n",
       "5   2018-08-15         London     -441.200        60      15.0\n",
       "6   2015-01-01       Montreal        1.000        10       2.0\n",
       "7   2015-10-24        Toronto      -20.000        20   10924.0\n",
       "8   2016-05-10  New York City        3.512        30    3912.0\n",
       "9   2017-01-10          Miami        4.000        40     -10.0\n",
       "10  2018-05-10  San Francisco    10423.000        50    3591.2\n",
       "11  2018-08-15         London     -441.200        60      15.0\n",
       "12  2015-01-01       Montreal        1.000        10       2.0\n",
       "13  2015-10-24        Toronto      -20.000        20   10924.0\n",
       "14  2016-05-10  New York City        3.512        30    3912.0\n",
       "15  2017-01-10          Miami        4.000        40     -10.0\n",
       "16  2018-05-10  San Francisco    10423.000        50    3591.2\n",
       "17  2018-08-15         London     -441.200        60      15.0\n",
       "18  2015-01-01       Montreal        1.000        10       2.0\n",
       "19  2015-10-24        Toronto      -20.000        20   10924.0\n",
       "20  2016-05-10  New York City        3.512        30    3912.0\n",
       "21  2017-01-10          Miami        4.000        40     -10.0\n",
       "22  2018-05-10  San Francisco    10423.000        50    3591.2\n",
       "23  2018-08-15         London     -441.200        60      15.0\n",
       "24  2015-01-01       Montreal        1.000        10       2.0\n",
       "25  2015-10-24        Toronto      -20.000        20   10924.0\n",
       "26  2016-05-10  New York City        3.512        30    3912.0\n",
       "27  2017-01-10          Miami        4.000        40     -10.0\n",
       "28  2018-05-10  San Francisco    10423.000        50    3591.2\n",
       "29  2018-08-15         London     -441.200        60      15.0\n",
       "30  2015-01-01       Montreal        1.000        10       2.0\n",
       "31  2015-10-24        Toronto      -20.000        20   10924.0\n",
       "32  2016-05-10  New York City        3.512        30    3912.0\n",
       "33  2017-01-10          Miami        4.000        40     -10.0\n",
       "34  2018-05-10  San Francisco    10423.000        50    3591.2\n",
       "35  2018-08-15         London     -441.200        60      15.0\n",
       "36  2015-01-01       Montreal        1.000        10       2.0\n",
       "37  2015-10-24        Toronto      -20.000        20   10924.0\n",
       "38  2016-05-10  New York City        3.512        30    3912.0\n",
       "39  2017-01-10          Miami        4.000        40     -10.0\n",
       "40  2018-05-10  San Francisco    10423.000        50    3591.2\n",
       "41  2018-08-15         London     -441.200        60      15.0\n",
       "42  2015-01-01       Montreal        1.000        10       2.0\n",
       "43  2015-10-24        Toronto      -20.000        20   10924.0\n",
       "44  2016-05-10  New York City        3.512        30    3912.0\n",
       "45  2017-01-10          Miami        4.000        40     -10.0\n",
       "46  2018-05-10  San Francisco    10423.000        50    3591.2\n",
       "47  2018-08-15         London     -441.200        60      15.0\n",
       "48  2015-01-01       Montreal        1.000        10       2.0\n",
       "49  2015-10-24        Toronto      -20.000        20   10924.0\n",
       "50  2016-05-10  New York City        3.512        30    3912.0\n",
       "51  2017-01-10          Miami        4.000        40     -10.0\n",
       "52  2018-05-10  San Francisco    10423.000        50    3591.2\n",
       "53  2018-08-15         London     -441.200        60      15.0\n",
       "54  2015-01-01       Montreal        1.000        10       2.0\n",
       "55  2015-10-24        Toronto      -20.000        20   10924.0\n",
       "56  2016-05-10  New York City        3.512        30    3912.0\n",
       "57  2017-01-10          Miami        4.000        40     -10.0\n",
       "58  2018-05-10  San Francisco    10423.000        50    3591.2\n",
       "59  2018-08-15         London     -441.200        60      15.0"
      ]
     },
     "metadata": {},
     "output_type": "display_data"
    }
   ],
   "source": [
    "dataf"
   ]
  },
  {
   "cell_type": "code",
   "execution_count": null,
   "id": "d4da9f1f",
   "metadata": {},
   "outputs": [],
   "source": []
  }
 ],
 "metadata": {
  "kernelspec": {
   "display_name": "Python 3 (ipykernel)",
   "language": "python",
   "name": "python3"
  },
  "language_info": {
   "codemirror_mode": {
    "name": "ipython",
    "version": 3
   },
   "file_extension": ".py",
   "mimetype": "text/x-python",
   "name": "python",
   "nbconvert_exporter": "python",
   "pygments_lexer": "ipython3",
   "version": "3.10.7"
  },
  "nbTranslate": {
   "displayLangs": [
    "*"
   ],
   "hotkey": "alt-t",
   "langInMainMenu": true,
   "sourceLang": "fr",
   "targetLang": "en",
   "useGoogleTranslate": true
  }
 },
 "nbformat": 4,
 "nbformat_minor": 5
}
